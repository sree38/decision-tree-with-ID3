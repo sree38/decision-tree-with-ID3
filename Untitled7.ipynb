{
  "nbformat": 4,
  "nbformat_minor": 0,
  "metadata": {
    "colab": {
      "provenance": []
    },
    "kernelspec": {
      "name": "python3",
      "display_name": "Python 3"
    },
    "language_info": {
      "name": "python"
    }
  },
  "cells": [
    {
      "cell_type": "code",
      "execution_count": 8,
      "metadata": {
        "id": "Tpa3wiZZBaCg"
      },
      "outputs": [],
      "source": [
        "import pandas as pd #for manipulating the csv data\n",
        "import numpy as np #for mathematical calculation"
      ]
    },
    {
      "cell_type": "code",
      "source": [
        "#Step 2: Importing the necessary basic python libraries\n",
        "from google.colab import files\n",
        "uploaded=files.upload()\n",
        "import pandas as pd\n",
        "df=pd.read_csv(\"lab2dataset.csv\")\n",
        "print(df)\n"
      ],
      "metadata": {
        "colab": {
          "base_uri": "https://localhost:8080/",
          "height": 316
        },
        "id": "-Uq3n0-fDrv7",
        "outputId": "16960bf5-f966-4fef-ee62-583e41c21bc2"
      },
      "execution_count": 13,
      "outputs": [
        {
          "output_type": "display_data",
          "data": {
            "text/plain": [
              "<IPython.core.display.HTML object>"
            ],
            "text/html": [
              "\n",
              "     <input type=\"file\" id=\"files-dfb840e5-4756-4dad-bdd3-225701ad0812\" name=\"files[]\" multiple disabled\n",
              "        style=\"border:none\" />\n",
              "     <output id=\"result-dfb840e5-4756-4dad-bdd3-225701ad0812\">\n",
              "      Upload widget is only available when the cell has been executed in the\n",
              "      current browser session. Please rerun this cell to enable.\n",
              "      </output>\n",
              "      <script>// Copyright 2017 Google LLC\n",
              "//\n",
              "// Licensed under the Apache License, Version 2.0 (the \"License\");\n",
              "// you may not use this file except in compliance with the License.\n",
              "// You may obtain a copy of the License at\n",
              "//\n",
              "//      http://www.apache.org/licenses/LICENSE-2.0\n",
              "//\n",
              "// Unless required by applicable law or agreed to in writing, software\n",
              "// distributed under the License is distributed on an \"AS IS\" BASIS,\n",
              "// WITHOUT WARRANTIES OR CONDITIONS OF ANY KIND, either express or implied.\n",
              "// See the License for the specific language governing permissions and\n",
              "// limitations under the License.\n",
              "\n",
              "/**\n",
              " * @fileoverview Helpers for google.colab Python module.\n",
              " */\n",
              "(function(scope) {\n",
              "function span(text, styleAttributes = {}) {\n",
              "  const element = document.createElement('span');\n",
              "  element.textContent = text;\n",
              "  for (const key of Object.keys(styleAttributes)) {\n",
              "    element.style[key] = styleAttributes[key];\n",
              "  }\n",
              "  return element;\n",
              "}\n",
              "\n",
              "// Max number of bytes which will be uploaded at a time.\n",
              "const MAX_PAYLOAD_SIZE = 100 * 1024;\n",
              "\n",
              "function _uploadFiles(inputId, outputId) {\n",
              "  const steps = uploadFilesStep(inputId, outputId);\n",
              "  const outputElement = document.getElementById(outputId);\n",
              "  // Cache steps on the outputElement to make it available for the next call\n",
              "  // to uploadFilesContinue from Python.\n",
              "  outputElement.steps = steps;\n",
              "\n",
              "  return _uploadFilesContinue(outputId);\n",
              "}\n",
              "\n",
              "// This is roughly an async generator (not supported in the browser yet),\n",
              "// where there are multiple asynchronous steps and the Python side is going\n",
              "// to poll for completion of each step.\n",
              "// This uses a Promise to block the python side on completion of each step,\n",
              "// then passes the result of the previous step as the input to the next step.\n",
              "function _uploadFilesContinue(outputId) {\n",
              "  const outputElement = document.getElementById(outputId);\n",
              "  const steps = outputElement.steps;\n",
              "\n",
              "  const next = steps.next(outputElement.lastPromiseValue);\n",
              "  return Promise.resolve(next.value.promise).then((value) => {\n",
              "    // Cache the last promise value to make it available to the next\n",
              "    // step of the generator.\n",
              "    outputElement.lastPromiseValue = value;\n",
              "    return next.value.response;\n",
              "  });\n",
              "}\n",
              "\n",
              "/**\n",
              " * Generator function which is called between each async step of the upload\n",
              " * process.\n",
              " * @param {string} inputId Element ID of the input file picker element.\n",
              " * @param {string} outputId Element ID of the output display.\n",
              " * @return {!Iterable<!Object>} Iterable of next steps.\n",
              " */\n",
              "function* uploadFilesStep(inputId, outputId) {\n",
              "  const inputElement = document.getElementById(inputId);\n",
              "  inputElement.disabled = false;\n",
              "\n",
              "  const outputElement = document.getElementById(outputId);\n",
              "  outputElement.innerHTML = '';\n",
              "\n",
              "  const pickedPromise = new Promise((resolve) => {\n",
              "    inputElement.addEventListener('change', (e) => {\n",
              "      resolve(e.target.files);\n",
              "    });\n",
              "  });\n",
              "\n",
              "  const cancel = document.createElement('button');\n",
              "  inputElement.parentElement.appendChild(cancel);\n",
              "  cancel.textContent = 'Cancel upload';\n",
              "  const cancelPromise = new Promise((resolve) => {\n",
              "    cancel.onclick = () => {\n",
              "      resolve(null);\n",
              "    };\n",
              "  });\n",
              "\n",
              "  // Wait for the user to pick the files.\n",
              "  const files = yield {\n",
              "    promise: Promise.race([pickedPromise, cancelPromise]),\n",
              "    response: {\n",
              "      action: 'starting',\n",
              "    }\n",
              "  };\n",
              "\n",
              "  cancel.remove();\n",
              "\n",
              "  // Disable the input element since further picks are not allowed.\n",
              "  inputElement.disabled = true;\n",
              "\n",
              "  if (!files) {\n",
              "    return {\n",
              "      response: {\n",
              "        action: 'complete',\n",
              "      }\n",
              "    };\n",
              "  }\n",
              "\n",
              "  for (const file of files) {\n",
              "    const li = document.createElement('li');\n",
              "    li.append(span(file.name, {fontWeight: 'bold'}));\n",
              "    li.append(span(\n",
              "        `(${file.type || 'n/a'}) - ${file.size} bytes, ` +\n",
              "        `last modified: ${\n",
              "            file.lastModifiedDate ? file.lastModifiedDate.toLocaleDateString() :\n",
              "                                    'n/a'} - `));\n",
              "    const percent = span('0% done');\n",
              "    li.appendChild(percent);\n",
              "\n",
              "    outputElement.appendChild(li);\n",
              "\n",
              "    const fileDataPromise = new Promise((resolve) => {\n",
              "      const reader = new FileReader();\n",
              "      reader.onload = (e) => {\n",
              "        resolve(e.target.result);\n",
              "      };\n",
              "      reader.readAsArrayBuffer(file);\n",
              "    });\n",
              "    // Wait for the data to be ready.\n",
              "    let fileData = yield {\n",
              "      promise: fileDataPromise,\n",
              "      response: {\n",
              "        action: 'continue',\n",
              "      }\n",
              "    };\n",
              "\n",
              "    // Use a chunked sending to avoid message size limits. See b/62115660.\n",
              "    let position = 0;\n",
              "    do {\n",
              "      const length = Math.min(fileData.byteLength - position, MAX_PAYLOAD_SIZE);\n",
              "      const chunk = new Uint8Array(fileData, position, length);\n",
              "      position += length;\n",
              "\n",
              "      const base64 = btoa(String.fromCharCode.apply(null, chunk));\n",
              "      yield {\n",
              "        response: {\n",
              "          action: 'append',\n",
              "          file: file.name,\n",
              "          data: base64,\n",
              "        },\n",
              "      };\n",
              "\n",
              "      let percentDone = fileData.byteLength === 0 ?\n",
              "          100 :\n",
              "          Math.round((position / fileData.byteLength) * 100);\n",
              "      percent.textContent = `${percentDone}% done`;\n",
              "\n",
              "    } while (position < fileData.byteLength);\n",
              "  }\n",
              "\n",
              "  // All done.\n",
              "  yield {\n",
              "    response: {\n",
              "      action: 'complete',\n",
              "    }\n",
              "  };\n",
              "}\n",
              "\n",
              "scope.google = scope.google || {};\n",
              "scope.google.colab = scope.google.colab || {};\n",
              "scope.google.colab._files = {\n",
              "  _uploadFiles,\n",
              "  _uploadFilesContinue,\n",
              "};\n",
              "})(self);\n",
              "</script> "
            ]
          },
          "metadata": {}
        },
        {
          "output_type": "stream",
          "name": "stdout",
          "text": [
            "Saving lab2dataset.csv to lab2dataset (2).csv\n",
            "     Outlook Temperature Humidity    Wind PlayTime\n",
            "0      Sunny         Hot     High    Weak       No\n",
            "1      Sunny         Hot     High  Strong       No\n",
            "2   Overcast         Hot     High    Weak      Yes\n",
            "3       Rain        Mild     High    Weak      Yes\n",
            "4       Rain        Cool  Normal     Weak      Yes\n",
            "5       Rain        Cool  Normal   Strong       No\n",
            "6   Overcast        Cool  Normal   Strong      Yes\n",
            "7      Sunny        Mild     High    Weak       No\n",
            "8      Sunny        Cool  Normal     Weak      Yes\n",
            "9       Rain        Mild  Normal     Weak      Yes\n",
            "10  Overcast        Mild     High  Strong      Yes\n",
            "11  Overcast         Hot  Normal     Weak      Yes\n",
            "12      Rain        Mild     High  Strong       No\n"
          ]
        }
      ]
    },
    {
      "cell_type": "code",
      "source": [
        "#Step 3: Reading the dataset\n",
        "train_data_m = pd.read_csv(\"lab2dataset.csv\") #importing the dataset from the disk\n",
        "\n",
        "train_data_m.head() #viewing some row of the dataset"
      ],
      "metadata": {
        "colab": {
          "base_uri": "https://localhost:8080/",
          "height": 206
        },
        "id": "DPjflDAiEEpS",
        "outputId": "1f8d31de-4c50-4994-ec6b-3f26d54571f3"
      },
      "execution_count": 14,
      "outputs": [
        {
          "output_type": "execute_result",
          "data": {
            "text/plain": [
              "    Outlook Temperature Humidity    Wind PlayTime\n",
              "0     Sunny         Hot     High    Weak       No\n",
              "1     Sunny         Hot     High  Strong       No\n",
              "2  Overcast         Hot     High    Weak      Yes\n",
              "3      Rain        Mild     High    Weak      Yes\n",
              "4      Rain        Cool  Normal     Weak      Yes"
            ],
            "text/html": [
              "\n",
              "  <div id=\"df-20d2aa32-6e82-408b-8218-6b28bbc93ba1\">\n",
              "    <div class=\"colab-df-container\">\n",
              "      <div>\n",
              "<style scoped>\n",
              "    .dataframe tbody tr th:only-of-type {\n",
              "        vertical-align: middle;\n",
              "    }\n",
              "\n",
              "    .dataframe tbody tr th {\n",
              "        vertical-align: top;\n",
              "    }\n",
              "\n",
              "    .dataframe thead th {\n",
              "        text-align: right;\n",
              "    }\n",
              "</style>\n",
              "<table border=\"1\" class=\"dataframe\">\n",
              "  <thead>\n",
              "    <tr style=\"text-align: right;\">\n",
              "      <th></th>\n",
              "      <th>Outlook</th>\n",
              "      <th>Temperature</th>\n",
              "      <th>Humidity</th>\n",
              "      <th>Wind</th>\n",
              "      <th>PlayTime</th>\n",
              "    </tr>\n",
              "  </thead>\n",
              "  <tbody>\n",
              "    <tr>\n",
              "      <th>0</th>\n",
              "      <td>Sunny</td>\n",
              "      <td>Hot</td>\n",
              "      <td>High</td>\n",
              "      <td>Weak</td>\n",
              "      <td>No</td>\n",
              "    </tr>\n",
              "    <tr>\n",
              "      <th>1</th>\n",
              "      <td>Sunny</td>\n",
              "      <td>Hot</td>\n",
              "      <td>High</td>\n",
              "      <td>Strong</td>\n",
              "      <td>No</td>\n",
              "    </tr>\n",
              "    <tr>\n",
              "      <th>2</th>\n",
              "      <td>Overcast</td>\n",
              "      <td>Hot</td>\n",
              "      <td>High</td>\n",
              "      <td>Weak</td>\n",
              "      <td>Yes</td>\n",
              "    </tr>\n",
              "    <tr>\n",
              "      <th>3</th>\n",
              "      <td>Rain</td>\n",
              "      <td>Mild</td>\n",
              "      <td>High</td>\n",
              "      <td>Weak</td>\n",
              "      <td>Yes</td>\n",
              "    </tr>\n",
              "    <tr>\n",
              "      <th>4</th>\n",
              "      <td>Rain</td>\n",
              "      <td>Cool</td>\n",
              "      <td>Normal</td>\n",
              "      <td>Weak</td>\n",
              "      <td>Yes</td>\n",
              "    </tr>\n",
              "  </tbody>\n",
              "</table>\n",
              "</div>\n",
              "      <button class=\"colab-df-convert\" onclick=\"convertToInteractive('df-20d2aa32-6e82-408b-8218-6b28bbc93ba1')\"\n",
              "              title=\"Convert this dataframe to an interactive table.\"\n",
              "              style=\"display:none;\">\n",
              "        \n",
              "  <svg xmlns=\"http://www.w3.org/2000/svg\" height=\"24px\"viewBox=\"0 0 24 24\"\n",
              "       width=\"24px\">\n",
              "    <path d=\"M0 0h24v24H0V0z\" fill=\"none\"/>\n",
              "    <path d=\"M18.56 5.44l.94 2.06.94-2.06 2.06-.94-2.06-.94-.94-2.06-.94 2.06-2.06.94zm-11 1L8.5 8.5l.94-2.06 2.06-.94-2.06-.94L8.5 2.5l-.94 2.06-2.06.94zm10 10l.94 2.06.94-2.06 2.06-.94-2.06-.94-.94-2.06-.94 2.06-2.06.94z\"/><path d=\"M17.41 7.96l-1.37-1.37c-.4-.4-.92-.59-1.43-.59-.52 0-1.04.2-1.43.59L10.3 9.45l-7.72 7.72c-.78.78-.78 2.05 0 2.83L4 21.41c.39.39.9.59 1.41.59.51 0 1.02-.2 1.41-.59l7.78-7.78 2.81-2.81c.8-.78.8-2.07 0-2.86zM5.41 20L4 18.59l7.72-7.72 1.47 1.35L5.41 20z\"/>\n",
              "  </svg>\n",
              "      </button>\n",
              "      \n",
              "  <style>\n",
              "    .colab-df-container {\n",
              "      display:flex;\n",
              "      flex-wrap:wrap;\n",
              "      gap: 12px;\n",
              "    }\n",
              "\n",
              "    .colab-df-convert {\n",
              "      background-color: #E8F0FE;\n",
              "      border: none;\n",
              "      border-radius: 50%;\n",
              "      cursor: pointer;\n",
              "      display: none;\n",
              "      fill: #1967D2;\n",
              "      height: 32px;\n",
              "      padding: 0 0 0 0;\n",
              "      width: 32px;\n",
              "    }\n",
              "\n",
              "    .colab-df-convert:hover {\n",
              "      background-color: #E2EBFA;\n",
              "      box-shadow: 0px 1px 2px rgba(60, 64, 67, 0.3), 0px 1px 3px 1px rgba(60, 64, 67, 0.15);\n",
              "      fill: #174EA6;\n",
              "    }\n",
              "\n",
              "    [theme=dark] .colab-df-convert {\n",
              "      background-color: #3B4455;\n",
              "      fill: #D2E3FC;\n",
              "    }\n",
              "\n",
              "    [theme=dark] .colab-df-convert:hover {\n",
              "      background-color: #434B5C;\n",
              "      box-shadow: 0px 1px 3px 1px rgba(0, 0, 0, 0.15);\n",
              "      filter: drop-shadow(0px 1px 2px rgba(0, 0, 0, 0.3));\n",
              "      fill: #FFFFFF;\n",
              "    }\n",
              "  </style>\n",
              "\n",
              "      <script>\n",
              "        const buttonEl =\n",
              "          document.querySelector('#df-20d2aa32-6e82-408b-8218-6b28bbc93ba1 button.colab-df-convert');\n",
              "        buttonEl.style.display =\n",
              "          google.colab.kernel.accessAllowed ? 'block' : 'none';\n",
              "\n",
              "        async function convertToInteractive(key) {\n",
              "          const element = document.querySelector('#df-20d2aa32-6e82-408b-8218-6b28bbc93ba1');\n",
              "          const dataTable =\n",
              "            await google.colab.kernel.invokeFunction('convertToInteractive',\n",
              "                                                     [key], {});\n",
              "          if (!dataTable) return;\n",
              "\n",
              "          const docLinkHtml = 'Like what you see? Visit the ' +\n",
              "            '<a target=\"_blank\" href=https://colab.research.google.com/notebooks/data_table.ipynb>data table notebook</a>'\n",
              "            + ' to learn more about interactive tables.';\n",
              "          element.innerHTML = '';\n",
              "          dataTable['output_type'] = 'display_data';\n",
              "          await google.colab.output.renderOutput(dataTable, element);\n",
              "          const docLink = document.createElement('div');\n",
              "          docLink.innerHTML = docLinkHtml;\n",
              "          element.appendChild(docLink);\n",
              "        }\n",
              "      </script>\n",
              "    </div>\n",
              "  </div>\n",
              "  "
            ]
          },
          "metadata": {},
          "execution_count": 14
        }
      ]
    },
    {
      "cell_type": "code",
      "source": [
        "#Step 4: Calculating the entropy of the whole dataset\n",
        "def calc_total_entropy(train_data, label, class_list):\n",
        "    total_row = train_data.shape[0] #the total size of the dataset\n",
        "    total_entr = 0\n",
        "    \n",
        "    for c in class_list: #for each class in the label\n",
        "        total_class_count = train_data[train_data[label] == c].shape[0] #number of the class\n",
        "        total_class_entr = - (total_class_count/total_row)*np.log2(total_class_count/total_row) #entropy of the class\n",
        "        total_entr += total_class_entr #adding the class entropy to the total entropy of the dataset\n",
        "    \n",
        "    return total_entr"
      ],
      "metadata": {
        "id": "V6R3tOtxEXXK"
      },
      "execution_count": 16,
      "outputs": []
    },
    {
      "cell_type": "code",
      "source": [
        "#Step 5: Calculating the entropy for the filtered dataset\n",
        "def calc_entropy(feature_value_data, label, class_list):\n",
        "    class_count = feature_value_data.shape[0]\n",
        "    entropy = 0\n",
        "    \n",
        "    for c in class_list:\n",
        "        label_class_count = feature_value_data[feature_value_data[label] == c].shape[0] #row count of class c \n",
        "        entropy_class = 0\n",
        "        if label_class_count != 0:\n",
        "            probability_class = label_class_count/class_count #probability of the class\n",
        "            entropy_class = - probability_class * np.log2(probability_class)  #entropy\n",
        "        entropy += entropy_class\n",
        "    return entropy"
      ],
      "metadata": {
        "id": "MMSqzEQ6GCYw"
      },
      "execution_count": 17,
      "outputs": []
    },
    {
      "cell_type": "code",
      "source": [
        "#Step 6: Calculating information gain for a feature\n",
        "def calc_info_gain(feature_name, train_data, label, class_list):\n",
        "    feature_value_list = train_data[feature_name].unique() #unqiue values of the feature\n",
        "    total_row = train_data.shape[0]\n",
        "    feature_info = 0.0\n",
        "    \n",
        "    for feature_value in feature_value_list:\n",
        "        feature_value_data = train_data[train_data[feature_name] == feature_value] #filtering rows with that feature_value\n",
        "        feature_value_count = feature_value_data.shape[0]\n",
        "        feature_value_entropy = calc_entropy(feature_value_data, label, class_list) #calculcating entropy for the feature value\n",
        "        feature_value_probability = feature_value_count/total_row\n",
        "        feature_info += feature_value_probability * feature_value_entropy #calculating information of the feature value\n",
        "        \n",
        "    return calc_total_entropy(train_data, label, class_list) - feature_info #calculating information gain by subtracting"
      ],
      "metadata": {
        "id": "wE60GAMHGKkH"
      },
      "execution_count": 18,
      "outputs": []
    },
    {
      "cell_type": "code",
      "source": [
        "#Step 7: Finding the most informative feature (feature with highest information gain)\n",
        "def find_most_informative_feature(train_data, label, class_list):\n",
        "    feature_list = train_data.columns.drop(label) #finding the feature names in the dataset\n",
        "                                            #N.B. label is not a feature, so dropping it\n",
        "    max_info_gain = -1\n",
        "    max_info_feature = None\n",
        "    \n",
        "    for feature in feature_list:  #for each feature in the dataset\n",
        "        feature_info_gain = calc_info_gain(feature, train_data, label, class_list)\n",
        "        if max_info_gain < feature_info_gain: #selecting feature name with highest information gain\n",
        "            max_info_gain = feature_info_gain\n",
        "            max_info_feature = feature\n",
        "            \n",
        "    return max_info_feature"
      ],
      "metadata": {
        "id": "c6DQkr13GbOc"
      },
      "execution_count": 19,
      "outputs": []
    },
    {
      "cell_type": "code",
      "source": [
        "#Step 8: Adding a node to the tree\n",
        "def generate_sub_tree(feature_name, train_data, label, class_list):\n",
        "    feature_value_count_dict = train_data[feature_name].value_counts(sort=False) #dictionary of the count of unqiue feature value\n",
        "    tree = {} #sub tree or node\n",
        "    \n",
        "    for feature_value, count in feature_value_count_dict.iteritems():\n",
        "        feature_value_data = train_data[train_data[feature_name] == feature_value] #dataset with only feature_name = feature_value\n",
        "        \n",
        "        assigned_to_node = False #flag for tracking feature_value is pure class or not\n",
        "        for c in class_list: #for each class\n",
        "            class_count = feature_value_data[feature_value_data[label] == c].shape[0] #count of class c\n",
        "\n",
        "            if class_count == count: #count of (feature_value = count) of class (pure class)\n",
        "                tree[feature_value] = c #adding node to the tree\n",
        "                train_data = train_data[train_data[feature_name] != feature_value] #removing rows with feature_value\n",
        "                assigned_to_node = True\n",
        "        if not assigned_to_node: #not pure class\n",
        "            tree[feature_value] = \"?\" #as feature_value is not a pure class, it should be expanded further, \n",
        "                                      #so the branch is marking with ?\n",
        "            \n",
        "    return tree, train_data"
      ],
      "metadata": {
        "id": "SgMmLIkTGlht"
      },
      "execution_count": 20,
      "outputs": []
    },
    {
      "cell_type": "code",
      "source": [
        "#Step 9: Performing ID3 Algorithm and generating Tree\n",
        "def make_tree(root, prev_feature_value, train_data, label, class_list):\n",
        "    if train_data.shape[0] != 0: #if dataset becomes enpty after updating\n",
        "        max_info_feature = find_most_informative_feature(train_data, label, class_list) #most informative feature\n",
        "        tree, train_data = generate_sub_tree(max_info_feature, train_data, label, class_list) #getting tree node and updated dataset\n",
        "        next_root = None\n",
        "        \n",
        "        if prev_feature_value != None: #add to intermediate node of the tree\n",
        "            root[prev_feature_value] = dict()\n",
        "            root[prev_feature_value][max_info_feature] = tree\n",
        "            next_root = root[prev_feature_value][max_info_feature]\n",
        "        else: #add to root of the tree\n",
        "            root[max_info_feature] = tree\n",
        "            next_root = root[max_info_feature]\n",
        "        \n",
        "        for node, branch in list(next_root.items()): #iterating the tree node\n",
        "            if branch == \"?\": #if it is expandable\n",
        "                feature_value_data = train_data[train_data[max_info_feature] == node] #using the updated dataset\n",
        "                make_tree(next_root, node, feature_value_data, label, class_list) #recursive call with updated dataset"
      ],
      "metadata": {
        "id": "R-Kw1YF5GuvY"
      },
      "execution_count": 22,
      "outputs": []
    },
    {
      "cell_type": "code",
      "source": [
        "#Step 10: Finding unique classes of the label and Starting the algorithm\n",
        "def id3(train_data_m, label):\n",
        "    train_data = train_data_m.copy() #getting a copy of the dataset\n",
        "    tree = {} #tree which will be updated\n",
        "    class_list = train_data[label].unique() #getting unqiue classes of the label\n",
        "    make_tree(tree, None, train_data, label, class_list) #start calling recursion\n",
        "    return tree"
      ],
      "metadata": {
        "id": "1YgBykeHG8gO"
      },
      "execution_count": 23,
      "outputs": []
    },
    {
      "cell_type": "code",
      "source": [
        "tree = id3(train_data_m, 'PlayTime')"
      ],
      "metadata": {
        "id": "hKSuAC3CHIZ7"
      },
      "execution_count": 27,
      "outputs": []
    },
    {
      "cell_type": "code",
      "source": [
        "print(tree)"
      ],
      "metadata": {
        "colab": {
          "base_uri": "https://localhost:8080/"
        },
        "id": "M_kuA9SgJHzA",
        "outputId": "c3ce0667-f58f-40ef-e7df-cab8ee67a356"
      },
      "execution_count": 28,
      "outputs": [
        {
          "output_type": "stream",
          "name": "stdout",
          "text": [
            "{'Outlook': {'Sunny': {'Temperature': {'Hot': 'No', 'Mild': 'No', 'Cool': 'Yes'}}, 'Overcast': 'Yes', 'Rain': {'Wind': {'Weak': 'Yes', 'Strong': 'No'}}}}\n"
          ]
        }
      ]
    },
    {
      "cell_type": "code",
      "source": [
        "#Step 11: classifying a sample as If we want to predict Outlook = ‘Rain’ and Wind = ‘Strong’ we have to traverse the dictionary like that: tree[‘Outlook’][‘Rain’][‘Wind’][‘Strong’]\n",
        "def predict(tree, instance):\n",
        "    if not isinstance(tree, dict): #if it is leaf node\n",
        "        return tree #return the value\n",
        "    else:\n",
        "        root_node = next(iter(tree)) #getting first key/feature name of the dictionary\n",
        "        feature_value = instance[root_node] #value of the feature\n",
        "        if feature_value in tree[root_node]: #checking the feature value in current tree node\n",
        "            return predict(tree[root_node][feature_value], instance) #goto next feature\n",
        "        else:\n",
        "            return None"
      ],
      "metadata": {
        "id": "PsARDYw0JhzU"
      },
      "execution_count": 29,
      "outputs": []
    },
    {
      "cell_type": "code",
      "source": [
        "#Step 12: Evaluating test dataset\n",
        "def evaluate(tree, test_data_m, label):\n",
        "    correct_preditct = 0\n",
        "    wrong_preditct = 0\n",
        "    for index, row in test_data_m.iterrows(): #for each row in the dataset\n",
        "        result = predict(tree, test_data_m.iloc[index]) #predict the row\n",
        "        if result == test_data_m[label].iloc[index]: #predicted value and expected value is same or not\n",
        "            correct_preditct += 1 #increase correct count\n",
        "        else:\n",
        "            wrong_preditct += 1 #increase incorrect count\n",
        "    accuracy = correct_preditct / (correct_preditct + wrong_preditct) #calculating accuracy\n",
        "    return accuracy\n",
        "  "
      ],
      "metadata": {
        "id": "8Vz3E0wbJ7W5"
      },
      "execution_count": 39,
      "outputs": []
    },
    {
      "cell_type": "code",
      "source": [
        "#Step 13: Checking test dataset and Evaluating it\n",
        "test_data_m = pd.read_csv(\"lab2dataset.csv\") #importing test dataset into dataframe\n",
        "\n",
        "accuracy = evaluate(tree, test_data_m, 'PlayTime') #evaluating the test dataset"
      ],
      "metadata": {
        "id": "jTHhMjU9KF0x"
      },
      "execution_count": 34,
      "outputs": []
    },
    {
      "cell_type": "code",
      "source": [
        "print(accuracy)"
      ],
      "metadata": {
        "colab": {
          "base_uri": "https://localhost:8080/"
        },
        "id": "I7uqcInrKwX8",
        "outputId": "e7973086-043b-4575-dbcb-3b196ab0c074"
      },
      "execution_count": 37,
      "outputs": [
        {
          "output_type": "stream",
          "name": "stdout",
          "text": [
            "1.0\n"
          ]
        }
      ]
    }
  ]
}